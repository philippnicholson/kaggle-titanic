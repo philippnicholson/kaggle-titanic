{
 "cells": [
  {
   "cell_type": "markdown",
   "metadata": {},
   "source": [
    "# Kaggle Titanic\n",
    "\n",
    "## dataset description\n",
    "\n",
    "Variable | Definition | Key\n",
    "---------|------------|-----\n",
    "Survival | survival | 0 = No, 1 = Yes\n",
    "pclass | Ticket class | 1 = 1st, 2 = 2nd, 3 = 3rd\n",
    "sex\t| Sex\t\n",
    "Age | Age in years\n",
    "sibsp |\t# of siblings / spouses aboard the Titanic\t\n",
    "parch | # of parents / children aboard the Titanic\t\n",
    "ticket | Ticket number\t\n",
    "fare\t| Passenger fare\t\n",
    "cabin\t| Cabin number\t\n",
    "embarked\t| Port of Embarkation\tC = Cherbourg, Q = Queenstown, S = Southampton\n",
    "\n",
    "**Variable Notes**\n",
    "\n",
    "**pclass:** A proxy for socio-economic status (SES)\n",
    "\n",
    "1st = Upper\n",
    "2nd = Middle\n",
    "3rd = Lower\n",
    "\n",
    "**age:** Age is fractional if less than 1. If the age is estimated, is it in the form of xx.5\n",
    "\n",
    "**sibsp:** The dataset defines family relations in this way...\n",
    "Sibling = brother, sister, stepbrother, stepsister\n",
    "Spouse = husband, wife (mistresses and fiancés were ignored)\n",
    "\n",
    "**parch:** The dataset defines family relations in this way...\n",
    "Parent = mother, father\n",
    "Child = daughter, son, stepdaughter, stepson\n",
    "Some children travelled only with a nanny, therefore parch=0 for them."
   ]
  },
  {
   "cell_type": "markdown",
   "metadata": {},
   "source": [
    "# imports"
   ]
  },
  {
   "cell_type": "code",
   "execution_count": 20,
   "metadata": {
    "ExecuteTime": {
     "end_time": "2020-06-26T19:55:58.908014Z",
     "start_time": "2020-06-26T19:55:58.898013Z"
    },
    "init_cell": true
   },
   "outputs": [],
   "source": [
    "import matplotlib.pyplot as plt\n",
    "import numpy as np\n",
    "import pandas as pd\n",
    "from scipy import stats\n",
    "import seaborn as sns\n",
    "from statistics import mode\n",
    "\n",
    "from sklearn.model_selection import train_test_split\n",
    "from sklearn import preprocessing\n",
    "\n",
    "\n",
    "%matplotlib inline"
   ]
  },
  {
   "cell_type": "markdown",
   "metadata": {},
   "source": [
    "# init data"
   ]
  },
  {
   "cell_type": "code",
   "execution_count": 21,
   "metadata": {
    "ExecuteTime": {
     "end_time": "2020-06-26T19:55:58.916014Z",
     "start_time": "2020-06-26T19:55:58.911014Z"
    },
    "init_cell": true
   },
   "outputs": [],
   "source": [
    "import memory_usage"
   ]
  },
  {
   "cell_type": "markdown",
   "metadata": {},
   "source": [
    "Reducing the memory usage of dataframe.\n",
    "https://www.kaggle.com/gemartin/load-data-reduce-memory-usage"
   ]
  },
  {
   "cell_type": "code",
   "execution_count": 22,
   "metadata": {
    "ExecuteTime": {
     "end_time": "2020-06-26T19:55:58.924015Z",
     "start_time": "2020-06-26T19:55:58.918014Z"
    },
    "init_cell": true
   },
   "outputs": [],
   "source": [
    "link = 'D:\\STUDY\\practice\\\\titanic'\n",
    "train = 'train.csv'\n",
    "test = 'test.csv'"
   ]
  },
  {
   "cell_type": "code",
   "execution_count": 23,
   "metadata": {
    "ExecuteTime": {
     "end_time": "2020-06-26T19:55:58.969017Z",
     "start_time": "2020-06-26T19:55:58.926015Z"
    },
    "init_cell": true
   },
   "outputs": [
    {
     "name": "stdout",
     "output_type": "stream",
     "text": [
      "Memory usage of dataframe is 0.04 MB\n",
      "Memory usage after optimization is: 0.04 MB\n",
      "Decreased by -27.7%\n"
     ]
    },
    {
     "ename": "NameError",
     "evalue": "name 'c' is not defined",
     "output_type": "error",
     "traceback": [
      "\u001b[1;31m---------------------------------------------------------------------------\u001b[0m",
      "\u001b[1;31mNameError\u001b[0m                                 Traceback (most recent call last)",
      "\u001b[1;32m<ipython-input-23-6c05b7aedae5>\u001b[0m in \u001b[0;36m<module>\u001b[1;34m\u001b[0m\n\u001b[0;32m      6\u001b[0m \u001b[0mtest_df\u001b[0m \u001b[1;33m=\u001b[0m \u001b[0mtest_df\u001b[0m\u001b[1;33m.\u001b[0m\u001b[0mrename\u001b[0m\u001b[1;33m(\u001b[0m\u001b[0mcolumns\u001b[0m\u001b[1;33m=\u001b[0m\u001b[1;33m{\u001b[0m\u001b[0mc\u001b[0m\u001b[1;33m:\u001b[0m\u001b[0mstr\u001b[0m\u001b[1;33m.\u001b[0m\u001b[0mlower\u001b[0m\u001b[1;33m(\u001b[0m\u001b[0mc\u001b[0m\u001b[1;33m)\u001b[0m \u001b[1;32mfor\u001b[0m \u001b[0mc\u001b[0m \u001b[1;32min\u001b[0m \u001b[0mtest_df\u001b[0m\u001b[1;33m.\u001b[0m\u001b[0mcolumns\u001b[0m\u001b[1;33m}\u001b[0m\u001b[1;33m)\u001b[0m\u001b[1;33m\u001b[0m\u001b[1;33m\u001b[0m\u001b[0m\n\u001b[0;32m      7\u001b[0m \u001b[1;33m\u001b[0m\u001b[0m\n\u001b[1;32m----> 8\u001b[1;33m \u001b[1;32mdel\u001b[0m \u001b[0mc\u001b[0m\u001b[1;33m\u001b[0m\u001b[1;33m\u001b[0m\u001b[0m\n\u001b[0m",
      "\u001b[1;31mNameError\u001b[0m: name 'c' is not defined"
     ]
    }
   ],
   "source": [
    "df = pd.read_csv(link+'\\\\'+train)\n",
    "#df = memory_usage.import_data(link+'\\\\'+train)\n",
    "test_df = memory_usage.import_data(link+'\\\\'+test)\n",
    "\n",
    "df = df.rename(columns={c:str.lower(c) for c in df.columns})\n",
    "test_df = test_df.rename(columns={c:str.lower(c) for c in test_df.columns})\n",
    "\n",
    "del c"
   ]
  },
  {
   "cell_type": "markdown",
   "metadata": {},
   "source": [
    "# exploring data"
   ]
  },
  {
   "cell_type": "markdown",
   "metadata": {},
   "source": [
    "## basic info"
   ]
  },
  {
   "cell_type": "code",
   "execution_count": null,
   "metadata": {
    "ExecuteTime": {
     "end_time": "2020-06-26T18:51:44.188536Z",
     "start_time": "2020-06-26T18:51:44.170535Z"
    }
   },
   "outputs": [],
   "source": [
    "df.head()"
   ]
  },
  {
   "cell_type": "code",
   "execution_count": null,
   "metadata": {
    "ExecuteTime": {
     "end_time": "2020-06-26T18:07:35.536042Z",
     "start_time": "2020-06-26T18:07:35.532042Z"
    }
   },
   "outputs": [],
   "source": [
    "df.shape"
   ]
  },
  {
   "cell_type": "code",
   "execution_count": null,
   "metadata": {
    "ExecuteTime": {
     "end_time": "2020-06-26T18:51:46.758683Z",
     "start_time": "2020-06-26T18:51:46.749683Z"
    }
   },
   "outputs": [],
   "source": [
    "df.info()"
   ]
  },
  {
   "cell_type": "code",
   "execution_count": null,
   "metadata": {
    "ExecuteTime": {
     "end_time": "2020-06-26T19:15:01.250444Z",
     "start_time": "2020-06-26T19:15:01.243443Z"
    },
    "scrolled": true
   },
   "outputs": [],
   "source": [
    "df.isna().sum()"
   ]
  },
  {
   "cell_type": "code",
   "execution_count": null,
   "metadata": {
    "ExecuteTime": {
     "end_time": "2020-06-26T18:07:35.601046Z",
     "start_time": "2020-06-26T18:07:35.563044Z"
    }
   },
   "outputs": [],
   "source": [
    "df.describe()"
   ]
  },
  {
   "cell_type": "code",
   "execution_count": null,
   "metadata": {
    "ExecuteTime": {
     "end_time": "2020-06-26T18:07:35.617047Z",
     "start_time": "2020-06-26T18:07:35.602046Z"
    }
   },
   "outputs": [],
   "source": [
    "df.median()"
   ]
  },
  {
   "cell_type": "markdown",
   "metadata": {
    "heading_collapsed": true
   },
   "source": [
    "## basic contributions"
   ]
  },
  {
   "cell_type": "code",
   "execution_count": null,
   "metadata": {
    "ExecuteTime": {
     "end_time": "2020-06-26T18:28:26.622600Z",
     "start_time": "2020-06-26T18:28:26.616600Z"
    },
    "hidden": true
   },
   "outputs": [],
   "source": [
    "df.columns.to_list()"
   ]
  },
  {
   "cell_type": "code",
   "execution_count": null,
   "metadata": {
    "ExecuteTime": {
     "end_time": "2020-06-26T18:25:50.743684Z",
     "start_time": "2020-06-26T18:25:50.684681Z"
    },
    "hidden": true
   },
   "outputs": [],
   "source": [
    "df['survived'].value_counts().plot(kind = 'pie')\n",
    "plt.show()"
   ]
  },
  {
   "cell_type": "code",
   "execution_count": null,
   "metadata": {
    "ExecuteTime": {
     "end_time": "2020-06-26T18:26:46.393867Z",
     "start_time": "2020-06-26T18:26:46.313863Z"
    },
    "hidden": true
   },
   "outputs": [],
   "source": [
    "df['pclass'].value_counts().plot(kind = 'pie')\n",
    "plt.show()"
   ]
  },
  {
   "cell_type": "code",
   "execution_count": null,
   "metadata": {
    "ExecuteTime": {
     "end_time": "2020-06-26T18:27:48.269406Z",
     "start_time": "2020-06-26T18:27:48.209403Z"
    },
    "hidden": true
   },
   "outputs": [],
   "source": [
    "df['sex'].value_counts().plot(kind='pie')\n",
    "plt.show()"
   ]
  },
  {
   "cell_type": "code",
   "execution_count": null,
   "metadata": {
    "ExecuteTime": {
     "end_time": "2020-06-26T18:30:12.993684Z",
     "start_time": "2020-06-26T18:30:12.835675Z"
    },
    "hidden": true
   },
   "outputs": [],
   "source": [
    "plt.figure(figsize=(20, 2))\n",
    "sns.boxplot(x='age', data = df[['age']])\n",
    "plt.show()\n",
    "df[['age']].describe()"
   ]
  },
  {
   "cell_type": "code",
   "execution_count": null,
   "metadata": {
    "ExecuteTime": {
     "end_time": "2020-06-26T18:34:18.025699Z",
     "start_time": "2020-06-26T18:34:17.881691Z"
    },
    "hidden": true
   },
   "outputs": [],
   "source": [
    "df['sibsp'].value_counts().plot(kind='bar')\n",
    "plt.show()"
   ]
  },
  {
   "cell_type": "code",
   "execution_count": null,
   "metadata": {
    "ExecuteTime": {
     "end_time": "2020-06-26T18:34:33.201567Z",
     "start_time": "2020-06-26T18:34:33.050559Z"
    },
    "hidden": true
   },
   "outputs": [],
   "source": [
    "df['parch'].value_counts().plot(kind='bar')\n",
    "plt.show()"
   ]
  },
  {
   "cell_type": "code",
   "execution_count": null,
   "metadata": {
    "ExecuteTime": {
     "end_time": "2020-06-26T18:35:18.695169Z",
     "start_time": "2020-06-26T18:35:18.630166Z"
    },
    "hidden": true
   },
   "outputs": [],
   "source": [
    "df['embarked'].value_counts().plot(kind='pie')\n",
    "plt.show()"
   ]
  },
  {
   "cell_type": "markdown",
   "metadata": {
    "heading_collapsed": true
   },
   "source": [
    "## survived"
   ]
  },
  {
   "cell_type": "code",
   "execution_count": null,
   "metadata": {
    "ExecuteTime": {
     "end_time": "2020-06-26T18:07:35.706052Z",
     "start_time": "2020-06-26T18:07:35.619047Z"
    },
    "hidden": true
   },
   "outputs": [],
   "source": [
    "df['survived'].value_counts().plot(kind = 'pie')\n",
    "plt.show()"
   ]
  },
  {
   "cell_type": "code",
   "execution_count": null,
   "metadata": {
    "ExecuteTime": {
     "end_time": "2020-06-26T18:07:35.877062Z",
     "start_time": "2020-06-26T18:07:35.708052Z"
    },
    "hidden": true
   },
   "outputs": [],
   "source": [
    "df.groupby(['sex'])['survived'].value_counts().unstack(0).plot(kind='bar', stacked=True)\n",
    "plt.show()"
   ]
  },
  {
   "cell_type": "code",
   "execution_count": null,
   "metadata": {
    "ExecuteTime": {
     "end_time": "2020-06-26T18:07:36.058072Z",
     "start_time": "2020-06-26T18:07:35.880062Z"
    },
    "hidden": true
   },
   "outputs": [],
   "source": [
    "df.groupby(['pclass'])['survived'].value_counts().unstack().plot(kind='bar', stacked=True)\n",
    "plt.show()"
   ]
  },
  {
   "cell_type": "code",
   "execution_count": null,
   "metadata": {
    "ExecuteTime": {
     "end_time": "2020-06-26T18:18:16.042677Z",
     "start_time": "2020-06-26T18:18:15.877667Z"
    },
    "hidden": true
   },
   "outputs": [],
   "source": [
    "df[df['sex']=='female'].groupby(['pclass'])['survived'].value_counts().unstack(0).plot(kind='bar', stacked=True)\n",
    "plt.show()"
   ]
  },
  {
   "cell_type": "code",
   "execution_count": null,
   "metadata": {
    "ExecuteTime": {
     "end_time": "2020-06-26T18:18:26.300264Z",
     "start_time": "2020-06-26T18:18:26.134254Z"
    },
    "hidden": true
   },
   "outputs": [],
   "source": [
    "df[df['sex']=='male'].groupby(['pclass'])['survived'].value_counts().unstack(0).plot(kind='bar', stacked=True)\n",
    "plt.show()"
   ]
  },
  {
   "cell_type": "code",
   "execution_count": null,
   "metadata": {
    "ExecuteTime": {
     "end_time": "2020-06-26T18:23:36.460004Z",
     "start_time": "2020-06-26T18:23:36.284994Z"
    },
    "hidden": true
   },
   "outputs": [],
   "source": [
    "df.groupby(['embarked'])['survived'].value_counts().unstack().plot(kind='bar', stacked=True)\n",
    "plt.show()"
   ]
  },
  {
   "cell_type": "code",
   "execution_count": null,
   "metadata": {
    "ExecuteTime": {
     "end_time": "2020-06-26T18:23:49.398744Z",
     "start_time": "2020-06-26T18:23:49.164730Z"
    },
    "hidden": true
   },
   "outputs": [],
   "source": [
    "df.groupby(['embarked', 'pclass'])['survived'].value_counts().unstack().plot(kind='bar', stacked=True)\n",
    "plt.show()"
   ]
  },
  {
   "cell_type": "markdown",
   "metadata": {},
   "source": [
    "## missing values"
   ]
  },
  {
   "cell_type": "code",
   "execution_count": null,
   "metadata": {
    "ExecuteTime": {
     "end_time": "2020-06-26T19:55:58.972017Z",
     "start_time": "2020-06-26T19:55:58.911Z"
    },
    "init_cell": true
   },
   "outputs": [],
   "source": [
    "df['embarked'] = df['embarked'].fillna(mode(df['embarked']))"
   ]
  },
  {
   "cell_type": "markdown",
   "metadata": {},
   "source": [
    "### age"
   ]
  },
  {
   "cell_type": "code",
   "execution_count": null,
   "metadata": {
    "ExecuteTime": {
     "end_time": "2020-06-26T18:22:38.705700Z",
     "start_time": "2020-06-26T18:22:38.538691Z"
    }
   },
   "outputs": [],
   "source": [
    "plt.figure(figsize=(20, 2))\n",
    "sns.boxplot(x='age', data = df[['age']])\n",
    "plt.show()\n",
    "df[['age']].describe()"
   ]
  },
  {
   "cell_type": "code",
   "execution_count": null,
   "metadata": {
    "ExecuteTime": {
     "end_time": "2020-06-26T19:19:26.676625Z",
     "start_time": "2020-06-26T19:19:26.412610Z"
    }
   },
   "outputs": [],
   "source": [
    "plt.figure(figsize=(20, 4))\n",
    "sns.boxplot(y='sex', x='age', hue='sex', data = df[['age', 'sex']])\n",
    "plt.show()"
   ]
  },
  {
   "cell_type": "code",
   "execution_count": null,
   "metadata": {
    "ExecuteTime": {
     "end_time": "2020-06-26T18:44:10.978614Z",
     "start_time": "2020-06-26T18:44:10.966613Z"
    }
   },
   "outputs": [],
   "source": [
    "df.groupby(['pclass', 'sex'])[['age']].median()"
   ]
  },
  {
   "cell_type": "code",
   "execution_count": null,
   "metadata": {
    "ExecuteTime": {
     "end_time": "2020-06-26T18:44:21.738230Z",
     "start_time": "2020-06-26T18:44:21.727229Z"
    }
   },
   "outputs": [],
   "source": [
    "df.groupby(['embarked', 'sex'])[['age']].median()"
   ]
  },
  {
   "cell_type": "code",
   "execution_count": null,
   "metadata": {
    "ExecuteTime": {
     "end_time": "2020-06-26T19:17:00.050239Z",
     "start_time": "2020-06-26T19:17:00.030237Z"
    }
   },
   "outputs": [],
   "source": [
    "df.groupby(['pclass', 'embarked', 'sex'])[['age']].median()"
   ]
  },
  {
   "cell_type": "markdown",
   "metadata": {},
   "source": [
    "### cabin"
   ]
  },
  {
   "cell_type": "code",
   "execution_count": null,
   "metadata": {
    "ExecuteTime": {
     "end_time": "2020-06-26T18:09:40.776205Z",
     "start_time": "2020-06-26T18:09:40.768205Z"
    }
   },
   "outputs": [],
   "source": [
    "df[ (df['cabin'].isna()==0)]['cabin']"
   ]
  },
  {
   "cell_type": "code",
   "execution_count": null,
   "metadata": {
    "ExecuteTime": {
     "end_time": "2020-06-26T18:09:56.678115Z",
     "start_time": "2020-06-26T18:09:56.665114Z"
    }
   },
   "outputs": [],
   "source": [
    "df[ (df['cabin'].isna()==0) & (df['cabin'].str.contains('F'))][['cabin']]"
   ]
  },
  {
   "cell_type": "markdown",
   "metadata": {},
   "source": [
    "## women and children first"
   ]
  },
  {
   "cell_type": "code",
   "execution_count": null,
   "metadata": {
    "ExecuteTime": {
     "end_time": "2020-06-26T18:07:58.735369Z",
     "start_time": "2020-06-26T18:07:58.717368Z"
    }
   },
   "outputs": [],
   "source": [
    "df[ (df['age'].isna()==1)].head()"
   ]
  },
  {
   "cell_type": "code",
   "execution_count": null,
   "metadata": {
    "ExecuteTime": {
     "end_time": "2020-06-26T18:10:27.003849Z",
     "start_time": "2020-06-26T18:10:26.986848Z"
    }
   },
   "outputs": [],
   "source": [
    "df[ (df['ticket']=='347077')]"
   ]
  },
  {
   "cell_type": "code",
   "execution_count": null,
   "metadata": {
    "ExecuteTime": {
     "end_time": "2020-06-26T19:04:52.617632Z",
     "start_time": "2020-06-26T19:04:52.320615Z"
    }
   },
   "outputs": [],
   "source": [
    "plt.figure(figsize=(20, 5))\n",
    "sns.boxplot(y='sex', x='age', hue='survived', data = df[['survived', 'age', 'sex']])\n",
    "plt.show()"
   ]
  },
  {
   "cell_type": "markdown",
   "metadata": {},
   "source": [
    "## fare"
   ]
  },
  {
   "cell_type": "code",
   "execution_count": null,
   "metadata": {
    "ExecuteTime": {
     "end_time": "2020-06-26T19:08:34.842342Z",
     "start_time": "2020-06-26T19:08:34.835342Z"
    }
   },
   "outputs": [],
   "source": [
    "df.groupby('pclass')['fare'].median()"
   ]
  },
  {
   "cell_type": "code",
   "execution_count": null,
   "metadata": {
    "ExecuteTime": {
     "end_time": "2020-06-26T19:09:09.980352Z",
     "start_time": "2020-06-26T19:09:09.954351Z"
    }
   },
   "outputs": [],
   "source": [
    "df[ (df['fare']==0)]"
   ]
  },
  {
   "cell_type": "code",
   "execution_count": null,
   "metadata": {
    "ExecuteTime": {
     "end_time": "2020-06-26T19:10:20.870407Z",
     "start_time": "2020-06-26T19:10:20.851406Z"
    }
   },
   "outputs": [],
   "source": [
    "df[ (df['ticket']=='LINE')]"
   ]
  },
  {
   "cell_type": "markdown",
   "metadata": {},
   "source": [
    "# features"
   ]
  },
  {
   "cell_type": "markdown",
   "metadata": {},
   "source": [
    "## 0"
   ]
  },
  {
   "cell_type": "code",
   "execution_count": null,
   "metadata": {
    "ExecuteTime": {
     "end_time": "2020-06-26T19:24:47.358967Z",
     "start_time": "2020-06-26T19:24:47.320965Z"
    }
   },
   "outputs": [],
   "source": [
    "df[df['name'].str.contains('Master')]"
   ]
  },
  {
   "cell_type": "code",
   "execution_count": null,
   "metadata": {
    "ExecuteTime": {
     "end_time": "2020-04-15T22:08:14.904531Z",
     "start_time": "2020-04-15T22:08:14.836527Z"
    }
   },
   "outputs": [],
   "source": [
    "q25 = df[ (df['sex']=='male') & (df['name'].str.contains('Master')) & (df['pclass']==3)][['Age']].quantile(.25)\n",
    "q75 = df[ (df['sex']=='male') & (df['name'].str.contains('Master')) & (df['pclass']==3)][['Age']].quantile(.75)\n",
    "\n",
    "df.loc[ (df['age'].isna()==1) & (df['Sex']=='male') & (df['name'].str.contains('Master')), 'age'] = np.array(range(int(q25[0]),int(q75[0]+1),round(int(q75[0]-q25[0])/4)))\n",
    "df.loc[df['age'].isnull(), 'age'] = df.groupby(['Pclass', 'Sex', 'Embarked'])['Age'].transform('median')"
   ]
  },
  {
   "cell_type": "code",
   "execution_count": null,
   "metadata": {
    "ExecuteTime": {
     "end_time": "2020-06-26T19:55:58.973017Z",
     "start_time": "2020-06-26T19:55:58.916Z"
    },
    "init_cell": true
   },
   "outputs": [],
   "source": [
    "df['is_female'] = df['sex'].apply(lambda x: (x=='female')*1)\n",
    "df.drop(['sex'], axis=1, inplace=True)\n",
    "\n",
    "c_variables = ['pclass', 'embarked']\n",
    "for c in c_variables:\n",
    "    dummies = pd.get_dummies(df[c], prefix=c.lower())\n",
    "    df = pd.concat([df, dummies], axis=1)\n",
    "    df.drop([c], axis=1, inplace=True)\n",
    "    \n",
    "del dummies, c_variables"
   ]
  },
  {
   "cell_type": "markdown",
   "metadata": {},
   "source": [
    "## columns drop"
   ]
  },
  {
   "cell_type": "code",
   "execution_count": null,
   "metadata": {
    "ExecuteTime": {
     "end_time": "2020-06-26T19:30:59.622259Z",
     "start_time": "2020-06-26T19:30:59.615259Z"
    }
   },
   "outputs": [],
   "source": [
    "', '.join(df.columns.tolist())"
   ]
  },
  {
   "cell_type": "code",
   "execution_count": 19,
   "metadata": {
    "ExecuteTime": {
     "end_time": "2020-06-26T19:55:40.860981Z",
     "start_time": "2020-06-26T19:55:40.855981Z"
    }
   },
   "outputs": [
    {
     "data": {
      "text/plain": [
       "['PassengerId',\n",
       " 'Survived',\n",
       " 'Pclass',\n",
       " 'Name',\n",
       " 'Sex',\n",
       " 'Age',\n",
       " 'SibSp',\n",
       " 'Parch',\n",
       " 'Ticket',\n",
       " 'Fare',\n",
       " 'Cabin',\n",
       " 'Embarked']"
      ]
     },
     "execution_count": 19,
     "metadata": {},
     "output_type": "execute_result"
    }
   ],
   "source": [
    "df.columns.tolist()"
   ]
  },
  {
   "cell_type": "code",
   "execution_count": null,
   "metadata": {
    "ExecuteTime": {
     "end_time": "2020-04-15T22:17:00.769609Z",
     "start_time": "2020-04-15T22:17:00.762608Z"
    }
   },
   "outputs": [],
   "source": [
    "columns_to_fit = 'Survived, Age, SibSp, Parch, is_female, pclass_1, pclass_2, pclass_3, embarked_C, embarked_Q, embarked_S'.replace(' ','').split(',')\n",
    "columns_to_fit"
   ]
  },
  {
   "cell_type": "code",
   "execution_count": null,
   "metadata": {
    "ExecuteTime": {
     "end_time": "2020-04-15T22:17:00.785610Z",
     "start_time": "2020-04-15T22:17:00.771609Z"
    }
   },
   "outputs": [],
   "source": [
    "df = df[df.columns.intersection(columns_to_fit)]"
   ]
  },
  {
   "cell_type": "markdown",
   "metadata": {},
   "source": [
    "## scaling"
   ]
  },
  {
   "cell_type": "code",
   "execution_count": null,
   "metadata": {
    "ExecuteTime": {
     "end_time": "2020-04-15T18:10:54.155007Z",
     "start_time": "2020-04-15T18:10:54.138006Z"
    }
   },
   "outputs": [],
   "source": [
    "min_max_scaler = preprocessing.MinMaxScaler(feature_range=(0,1))\n",
    "columns_to_scale = ['age', 'sibsp', 'parch']\n",
    "for c in columns_to_scale:\n",
    "    df[[c]] = min_max_scaler.fit_transform(df[[c]])"
   ]
  },
  {
   "cell_type": "code",
   "execution_count": null,
   "metadata": {
    "ExecuteTime": {
     "end_time": "2020-04-15T18:10:55.495083Z",
     "start_time": "2020-04-15T18:10:55.480083Z"
    }
   },
   "outputs": [],
   "source": [
    "df.head(3)"
   ]
  },
  {
   "cell_type": "markdown",
   "metadata": {},
   "source": [
    "# modeling"
   ]
  },
  {
   "cell_type": "code",
   "execution_count": null,
   "metadata": {
    "ExecuteTime": {
     "end_time": "2020-04-15T18:09:28.593113Z",
     "start_time": "2020-04-15T18:09:28.589113Z"
    }
   },
   "outputs": [],
   "source": [
    "from sklearn.ensemble import RandomForestClassifier\n",
    "from sklearn.model_selection import KFold\n",
    "from sklearn.model_selection import cross_val_score\n",
    "from sklearn.metrics import roc_auc_score\n",
    "from sklearn.svm import SVC\n",
    "\n",
    "k_fold= KFold(n_splits=10, shuffle=True, random_state=1)"
   ]
  },
  {
   "cell_type": "code",
   "execution_count": null,
   "metadata": {
    "ExecuteTime": {
     "end_time": "2020-04-15T18:09:38.421675Z",
     "start_time": "2020-04-15T18:09:38.408674Z"
    }
   },
   "outputs": [],
   "source": [
    "df.head()"
   ]
  },
  {
   "cell_type": "code",
   "execution_count": null,
   "metadata": {
    "ExecuteTime": {
     "end_time": "2020-04-15T18:09:41.789868Z",
     "start_time": "2020-04-15T18:09:41.784867Z"
    }
   },
   "outputs": [],
   "source": [
    "target = 'survived'\n",
    "X = df.loc[:, df.columns != target]\n",
    "y = df[target]"
   ]
  }
 ],
 "metadata": {
  "hide_input": false,
  "kernelspec": {
   "display_name": "Python 3",
   "language": "python",
   "name": "python3"
  },
  "language_info": {
   "codemirror_mode": {
    "name": "ipython",
    "version": 3
   },
   "file_extension": ".py",
   "mimetype": "text/x-python",
   "name": "python",
   "nbconvert_exporter": "python",
   "pygments_lexer": "ipython3",
   "version": "3.7.6"
  },
  "toc": {
   "base_numbering": 1,
   "nav_menu": {},
   "number_sections": true,
   "sideBar": true,
   "skip_h1_title": false,
   "title_cell": "Table of Contents",
   "title_sidebar": "Contents",
   "toc_cell": false,
   "toc_position": {},
   "toc_section_display": true,
   "toc_window_display": false
  },
  "varInspector": {
   "cols": {
    "lenName": 16,
    "lenType": 16,
    "lenVar": 40
   },
   "kernels_config": {
    "python": {
     "delete_cmd_postfix": "",
     "delete_cmd_prefix": "del ",
     "library": "var_list.py",
     "varRefreshCmd": "print(var_dic_list())"
    },
    "r": {
     "delete_cmd_postfix": ") ",
     "delete_cmd_prefix": "rm(",
     "library": "var_list.r",
     "varRefreshCmd": "cat(var_dic_list()) "
    }
   },
   "position": {
    "height": "909px",
    "left": "625px",
    "right": "20px",
    "top": "119px",
    "width": "350px"
   },
   "types_to_exclude": [
    "module",
    "function",
    "builtin_function_or_method",
    "instance",
    "_Feature"
   ],
   "window_display": false
  }
 },
 "nbformat": 4,
 "nbformat_minor": 4
}
